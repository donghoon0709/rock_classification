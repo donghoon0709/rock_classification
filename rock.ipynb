{
 "cells": [
  {
   "cell_type": "code",
   "execution_count": 2,
   "metadata": {},
   "outputs": [],
   "source": [
    "import pandas as pd"
   ]
  },
  {
   "cell_type": "code",
   "execution_count": 3,
   "id": "95a24f8d",
   "metadata": {},
   "outputs": [
    {
     "name": "stdout",
     "output_type": "stream",
     "text": [
      "Index(['SiO2', 'TiO2', 'Al2O3', 'MnO', 'MgO ', 'CaO', 'Na2O', 'K2O', 'P2O5',\n",
      "       'Name', 'Basalt', 'Gabbro', 'Granite'],\n",
      "      dtype='object')\n"
     ]
    },
    {
     "data": {
      "text/plain": [
       "(789, 13)"
      ]
     },
     "execution_count": 3,
     "metadata": {},
     "output_type": "execute_result"
    }
   ],
   "source": [
    "rock = pd.read_csv(\"data/train.csv\")\n",
    "\n",
    "rock.dropna()\n",
    "print(rock.columns)\n",
    "rock.shape"
   ]
  },
  {
   "cell_type": "code",
   "execution_count": 4,
   "id": "7d1d848a",
   "metadata": {},
   "outputs": [
    {
     "name": "stdout",
     "output_type": "stream",
     "text": [
      "      SiO2  TiO2  Al2O3   MnO   MgO     CaO  Na2O   K2O  P2O5\n",
      "541  48.24  1.34  15.91  0.17  10.06  10.78  2.51  0.56  0.26\n",
      "310  49.88  1.12  14.99  0.18   9.79  11.52  1.84  0.59  0.15\n",
      "763  66.57  0.75  15.13  0.08   2.00   3.76  3.92  3.59  0.13\n",
      "516  50.65  1.48  16.92  0.17   7.84   9.79  2.87  0.54  0.29\n",
      "245  47.77  1.21  15.59  0.16  10.70  11.71  2.24  0.89  0.46\n",
      "..     ...   ...    ...   ...    ...    ...   ...   ...   ...\n",
      "507  48.27  2.43  15.75  0.21   5.73  11.05  2.77  0.42  0.30\n",
      "617  50.11  1.45  17.25  0.19   7.54  10.64  2.38  0.38  0.18\n",
      "448  53.84  1.41  17.64  0.15   4.46   7.99  4.12  1.20  0.63\n",
      "68   50.91  1.35  19.67  0.17   4.33  10.95  2.82  0.44  0.12\n",
      "76   51.93  1.00  16.84  0.14   6.17  11.33  2.60  0.29  0.14\n",
      "\n",
      "[198 rows x 9 columns] [0 0 2 0 0 2 0 2 0 0 0 2 1 0 2 0 2 0 0 0 0 0 1 0 0 0 0 0 0 2 0 2 0 2 0 0 0\n",
      " 0 1 0 0 2 2 2 0 0 0 0 1 0 0 0 0 0 0 0 0 0 0 0 2 0 0 0 0 0 0 0 0 0 0 0 2 0\n",
      " 2 0 0 0 0 0 0 0 0 0 0 2 0 0 2 0 0 0 0 0 2 0 1 0 0 2 0 0 2 0 0 0 2 0 0 0 0\n",
      " 0 0 0 0 2 0 0 0 0 2 0 2 2 0 0 0 0 0 0 0 0 0 0 0 0 0 0 0 2 0 0 0 0 0 0 2 2\n",
      " 0 2 0 0 2 0 0 0 0 0 0 0 0 0 0 0 0 0 0 0 2 0 0 0 0 2 0 0 0 2 0 2 0 2 0 0 0\n",
      " 0 0 2 0 0 0 0 0 0 1 0 0 0]\n"
     ]
    },
    {
     "name": "stderr",
     "output_type": "stream",
     "text": [
      "/Users/donghoon/opt/anaconda3/envs/rock/lib/python3.10/site-packages/sklearn/preprocessing/_label.py:115: DataConversionWarning: A column-vector y was passed when a 1d array was expected. Please change the shape of y to (n_samples, ), for example using ravel().\n",
      "  y = column_or_1d(y, warn=True)\n"
     ]
    }
   ],
   "source": [
    "from sklearn.preprocessing import LabelEncoder\n",
    "from sklearn.model_selection import train_test_split\n",
    "from sklearn.preprocessing import MinMaxScaler, StandardScaler\n",
    "\n",
    "X = rock[['SiO2', 'TiO2', 'Al2O3', 'MnO', 'MgO ', 'CaO', 'Na2O', 'K2O', 'P2O5']]\n",
    "y = LabelEncoder().fit_transform(rock[['Name']])\n",
    "\n",
    "\n",
    "X_train, X_test, y_train, y_test = train_test_split(X, y, random_state=1)\n",
    "\n",
    "print(X_test, y_test)"
   ]
  },
  {
   "cell_type": "code",
   "execution_count": 259,
   "id": "194913f8",
   "metadata": {},
   "outputs": [
    {
     "name": "stdout",
     "output_type": "stream",
     "text": [
      "[0 0 2 0 0 2 0 2 0 0 0 2 0 0 2 0 2 0 0 1 0 0 0 0 0 0 0 0 0 2 0 2 0 2 0 0 0\n",
      " 0 0 0 0 2 2 2 0 0 0 0 0 0 0 0 0 0 0 0 0 0 0 0 2 0 0 0 0 0 0 0 0 0 0 0 2 0\n",
      " 2 0 0 0 0 0 0 0 0 0 0 2 0 0 2 0 0 0 0 0 2 0 0 0 0 2 0 0 2 0 0 0 2 0 0 0 0\n",
      " 0 0 0 0 2 0 0 0 0 2 0 2 2 0 0 0 0 0 0 0 0 0 0 0 0 0 0 0 2 0 0 0 0 0 0 2 2\n",
      " 0 2 0 0 2 0 0 0 0 0 0 0 0 0 0 0 0 0 0 0 2 0 0 0 0 2 0 0 0 2 0 2 0 2 0 1 0\n",
      " 0 0 2 0 0 0 0 0 0 0 0 0 0]\n",
      "0.9695431472081218\n",
      "0.9595959595959596\n"
     ]
    }
   ],
   "source": [
    "# K-NN Classifier\n",
    "from sklearn.neighbors import KNeighborsClassifier\n",
    "\n",
    "knn_classifier = KNeighborsClassifier(n_neighbors=3)\n",
    "knn_classifier.fit(X_train, y_train)\n",
    "\n",
    "print(knn_classifier.predict(X_test))\n",
    "print(knn_classifier.score(X_train, y_train))\n",
    "print(knn_classifier.score(X_test, y_test))"
   ]
  },
  {
   "cell_type": "code",
   "execution_count": 238,
   "id": "156cbe96",
   "metadata": {},
   "outputs": [
    {
     "name": "stdout",
     "output_type": "stream",
     "text": [
      "[0 0 2 0 0 2 0 2 0 0 0 2 0 0 2 0 2 0 0 0 0 0 0 0 0 0 0 0 0 2 0 2 0 2 0 0 0\n",
      " 0 0 0 0 2 2 2 0 0 0 0 0 0 0 0 0 0 0 0 0 0 0 0 2 0 0 0 0 0 0 0 0 0 0 0 2 0\n",
      " 2 0 0 0 0 0 0 0 0 0 0 2 0 0 2 1 0 0 0 0 2 0 0 0 0 2 0 0 2 0 0 0 2 0 0 0 0\n",
      " 0 0 0 0 2 0 0 0 0 2 0 0 2 0 0 0 0 0 0 0 0 0 0 0 0 0 0 0 2 0 0 0 0 0 0 2 2\n",
      " 0 2 0 0 2 0 0 0 0 0 0 0 0 0 0 0 0 0 0 0 2 0 0 0 0 2 0 0 0 2 0 2 0 2 0 0 0\n",
      " 0 0 2 0 0 0 0 0 0 0 0 0 0]\n",
      "3\n",
      "0.961082910321489\n",
      "0.9595959595959596\n"
     ]
    }
   ],
   "source": [
    "# Decision Tree\n",
    "from sklearn.tree import DecisionTreeClassifier\n",
    "\n",
    "decision_tree = DecisionTreeClassifier(max_depth=3, max_features=3, max_leaf_nodes=4, min_samples_leaf=3, random_state=42).fit(X_train, y_train)\n",
    "\n",
    "print(decision_tree.predict(X_test))\n",
    "print(decision_tree.get_depth())\n",
    "print(decision_tree.score(X_train, y_train))\n",
    "print(decision_tree.score(X_test, y_test))"
   ]
  },
  {
   "cell_type": "code",
   "execution_count": 64,
   "id": "62862404",
   "metadata": {},
   "outputs": [
    {
     "name": "stdout",
     "output_type": "stream",
     "text": [
      "[0 0 2 0 0 2 0 2 0 0 0 2 0 0 2 0 2 0 0 0 0 0 0 0 0 0 0 0 2 2 0 2 0 2 0 0 0\n",
      " 0 0 0 0 2 2 2 0 0 0 0 0 0 0 0 0 0 0 0 0 0 0 0 2 0 0 0 0 0 0 0 0 0 0 0 2 0\n",
      " 2 0 0 0 0 0 0 0 0 0 0 2 0 0 2 0 0 0 0 0 2 0 0 0 0 2 0 0 2 0 0 0 2 0 0 0 0\n",
      " 0 0 0 0 2 0 0 0 0 2 0 2 2 0 0 0 0 0 0 0 0 0 0 0 0 0 0 0 2 0 0 0 0 0 0 2 2\n",
      " 0 2 0 0 2 0 0 0 0 0 0 0 0 0 0 0 0 0 0 0 2 0 0 0 0 2 0 0 0 2 0 2 0 2 0 0 0\n",
      " 0 0 2 0 0 0 0 0 0 0 0 0 0]\n",
      "0.9661590524534687\n",
      "0.9646464646464646\n",
      "[0.24275944 0.06389638 0.0222873  0.11420382 0.18864023 0.15960872\n",
      " 0.01469704 0.18009825 0.01380882]\n"
     ]
    }
   ],
   "source": [
    "# Random Forest\n",
    "from sklearn.ensemble import RandomForestClassifier\n",
    "\n",
    "random_forest = RandomForestClassifier(n_estimators=100, max_depth=5, max_features=3, max_leaf_nodes=9, n_jobs=-1, random_state=42).fit(X_train, y_train)\n",
    "\n",
    "print(random_forest.predict(X_test))\n",
    "print(random_forest.score(X_train, y_train))\n",
    "print(random_forest.score(X_test, y_test))\n",
    "print(random_forest.feature_importances_)"
   ]
  },
  {
   "cell_type": "code",
   "execution_count": 80,
   "id": "59254e1f",
   "metadata": {},
   "outputs": [
    {
     "name": "stdout",
     "output_type": "stream",
     "text": [
      "[0 0 2 0 0 2 0 2 0 0 0 2 0 0 2 0 2 0 0 0 0 0 0 0 0 0 0 0 0 2 0 2 0 2 0 0 0\n",
      " 0 0 0 0 2 2 2 0 0 0 0 0 0 0 0 0 0 0 0 0 0 0 0 2 0 0 0 0 0 0 0 0 0 0 0 2 0\n",
      " 2 0 0 0 0 0 0 0 0 0 0 2 0 0 2 0 0 0 0 0 2 0 0 0 0 2 0 0 2 0 0 0 2 0 0 0 0\n",
      " 0 0 0 0 2 0 0 0 0 2 0 2 2 0 0 0 0 0 0 0 0 0 0 0 0 0 0 0 2 0 0 0 0 0 0 2 2\n",
      " 0 2 0 0 2 0 0 0 0 0 0 0 0 0 0 0 0 0 0 0 2 0 0 0 0 2 0 0 0 2 0 2 0 2 0 0 0\n",
      " 0 0 2 0 0 0 0 0 0 0 0 0 0]\n",
      "0.9712351945854484\n",
      "0.9696969696969697\n",
      "[0.21885623 0.03410791 0.02723517 0.18773208 0.20810474 0.19400146\n",
      " 0.01440275 0.10142846 0.0141312 ]\n"
     ]
    }
   ],
   "source": [
    "#Gradient Boost\n",
    "from sklearn.ensemble import GradientBoostingClassifier\n",
    "\n",
    "gradient_boost = GradientBoostingClassifier(n_estimators=900, learning_rate=0.001, max_depth=4, max_features=3, max_leaf_nodes=15).fit(X_train, y_train)\n",
    "print(gradient_boost.predict(X_test))\n",
    "print(gradient_boost.score(X_train, y_train))\n",
    "print(gradient_boost.score(X_test, y_test))\n",
    "print(gradient_boost.feature_importances_)"
   ]
  },
  {
   "cell_type": "code",
   "execution_count": 203,
   "id": "13e521c2",
   "metadata": {},
   "outputs": [
    {
     "name": "stdout",
     "output_type": "stream",
     "text": [
      "StandardScaler\n",
      "0.961082910321489\n",
      "0.9595959595959596\n"
     ]
    }
   ],
   "source": [
    "# Neural Network\n",
    "from sklearn.neural_network import MLPClassifier\n",
    "\n",
    "\n",
    "X_test_mms = MinMaxScaler().fit_transform(X_test)\n",
    "X_test_ss = StandardScaler().fit_transform(X_test)\n",
    "X_train_mms = MinMaxScaler().fit_transform(X_train)\n",
    "X_train_ss = StandardScaler().fit_transform(X_train)\n",
    "\n",
    "neural_network = MLPClassifier(alpha=1,\n",
    "activation='relu',\n",
    "solver='lbfgs',\n",
    "hidden_layer_sizes=[4, 4, 6, 4, 4],\n",
    "max_iter=5000,\n",
    "random_state=42).fit(X_train_ss, y_train)\n",
    "\n",
    "\n",
    "# print(\"MinMaxScaler\")\n",
    "# print(neural_network.score(X_train_mms, y_train))\n",
    "# print(neural_network.score(X_test_mms, y_test))\n",
    "print(\"StandardScaler\")\n",
    "print(neural_network.score(X_train_ss, y_train))\n",
    "print(neural_network.score(X_test_ss, y_test))\n"
   ]
  },
  {
   "cell_type": "code",
   "execution_count": 204,
   "id": "c4e281d3",
   "metadata": {},
   "outputs": [
    {
     "name": "stdout",
     "output_type": "stream",
     "text": [
      "     SiO2   TiO2   Al2O3    MnO    MgO     CaO    Na2O    K2O   P2O5\n",
      "0  43.255  0.513  24.556  0.032   8.182  2.730  17.028  0.861  0.343\n",
      "1  38.081  0.406  22.305  0.026   8.944  2.187  25.233  0.756  0.196\n",
      "2  42.710  0.475  23.797  0.031   8.096  2.633  18.472  0.745  0.148\n",
      "3  32.438  0.098   7.982  0.053  53.266  1.890   0.000  0.385  0.000\n",
      "4  27.526  0.000   6.738  0.043  55.932  1.022   5.184  0.157  0.000\n",
      "5  39.057  0.139  16.525  0.049  38.255  1.251   0.000  0.184  0.125\n",
      "6  60.913  0.030  15.214  0.003   0.381  0.345  21.257  1.639  0.031\n",
      "7  50.281  0.034  21.634  0.008   1.062  0.419  22.937  2.932  0.130\n",
      "8  61.599  0.000  13.910  0.003   0.536  0.342  21.984  1.470  0.000 [0 0 0 1 1 1 2 2 2]\n"
     ]
    },
    {
     "name": "stderr",
     "output_type": "stream",
     "text": [
      "/Users/donghoon/opt/anaconda3/envs/rock/lib/python3.10/site-packages/sklearn/preprocessing/_label.py:115: DataConversionWarning: A column-vector y was passed when a 1d array was expected. Please change the shape of y to (n_samples, ), for example using ravel().\n",
      "  y = column_or_1d(y, warn=True)\n"
     ]
    }
   ],
   "source": [
    "evaluate = pd.read_csv(\"data/evaluate.csv\")\n",
    "\n",
    "X_eval = evaluate[['SiO2', 'TiO2', 'Al2O3', 'MnO', 'MgO ', 'CaO', 'Na2O', 'K2O', 'P2O5']]\n",
    "y_eval = LabelEncoder().fit_transform(evaluate[['Name']])\n",
    "\n",
    "print(X_eval, y_eval)"
   ]
  },
  {
   "cell_type": "code",
   "execution_count": 260,
   "id": "d6f153c1",
   "metadata": {},
   "outputs": [
    {
     "name": "stdout",
     "output_type": "stream",
     "text": [
      "y_eval array: [0 0 0 1 1 1 2 2 2]\n",
      "KNeighborsClassifier: [0 0 0 0 0 0 2 1 2] 0.5555555555555556\n",
      "DecisionTreeClassifier: [0 0 0 0 0 0 2 2 2] 0.6666666666666666\n",
      "RandomForestClassifier: [0 0 0 0 0 0 2 2 2] 0.6666666666666666\n",
      "GradientBoostingClassifier: [0 0 0 0 0 0 2 2 2] 0.6666666666666666\n",
      "MLPClassifier: [0 0 0 0 0 0 2 2 2] 0.6666666666666666\n"
     ]
    }
   ],
   "source": [
    "X_eval_ss = StandardScaler().fit_transform(X_eval)\n",
    "print(f\"y_eval array: {y_eval}\")\n",
    "print(f\"KNeighborsClassifier: {knn_classifier.predict(X_eval)} {knn_classifier.score(X_eval, y_eval)}\")\n",
    "print(f\"DecisionTreeClassifier: {decision_tree.predict(X_eval)} {decision_tree.score(X_eval, y_eval)}\")\n",
    "print(f\"RandomForestClassifier: {random_forest.predict(X_eval)} {random_forest.score(X_eval, y_eval)}\")\n",
    "print(f\"GradientBoostingClassifier: {gradient_boost.predict(X_eval)} {gradient_boost.score(X_eval, y_eval)}\")\n",
    "print(f\"MLPClassifier: {neural_network.predict(X_eval_ss)} {neural_network.score(X_eval_ss, y_eval)}\")"
   ]
  },
  {
   "cell_type": "code",
   "execution_count": 263,
   "id": "2f30e733",
   "metadata": {},
   "outputs": [
    {
     "name": "stdout",
     "output_type": "stream",
     "text": [
      "KNeighborsClassifier\n",
      "train: 0.9695431472081218 test: 0.9595959595959596\n",
      "DecisionTreeClassifier\n",
      "train: 0.961082910321489 test: 0.9595959595959596\n",
      "RandomForestClassifier\n",
      "train: 0.9661590524534687 test: 0.9646464646464646\n",
      "GradientBoostingClassifier\n",
      "train: 0.9712351945854484 test: 0.9696969696969697\n",
      "MLPClassifier\n",
      "train: 0.961082910321489 test: 0.9595959595959596\n"
     ]
    }
   ],
   "source": [
    "print(\"KNeighborsClassifier\")\n",
    "print(f\"train: {knn_classifier.score(X_train, y_train)} test: {knn_classifier.score(X_test, y_test)}\")\n",
    "print(\"DecisionTreeClassifier\")\n",
    "print(f\"train: {decision_tree.score(X_train, y_train)} test: {decision_tree.score(X_test, y_test)}\")\n",
    "print(\"RandomForestClassifier\")\n",
    "print(f\"train: {random_forest.score(X_train, y_train)} test: {random_forest.score(X_test, y_test)}\")\n",
    "print(\"GradientBoostingClassifier\")\n",
    "print(f\"train: {gradient_boost.score(X_train, y_train)} test: {gradient_boost.score(X_test, y_test)}\")\n",
    "print(\"MLPClassifier\")\n",
    "print(f\"train: {neural_network.score(X_train_ss, y_train)} test: {neural_network.score(X_test_ss, y_test)}\")\n"
   ]
  },
  {
   "cell_type": "code",
   "execution_count": null,
   "id": "3088e2bf",
   "metadata": {},
   "outputs": [],
   "source": []
  }
 ],
 "metadata": {
  "interpreter": {
   "hash": "baf2bd836f2adedb699606bef1a0ba05fac2018de730c9ad14ae05905aec0db3"
  },
  "kernelspec": {
   "display_name": "Python 3.10.4 ('rock')",
   "language": "python",
   "name": "python3"
  },
  "language_info": {
   "codemirror_mode": {
    "name": "ipython",
    "version": 3
   },
   "file_extension": ".py",
   "mimetype": "text/x-python",
   "name": "python",
   "nbconvert_exporter": "python",
   "pygments_lexer": "ipython3",
   "version": "3.10.4"
  }
 },
 "nbformat": 4,
 "nbformat_minor": 5
}
